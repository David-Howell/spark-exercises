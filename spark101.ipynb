{
 "cells": [
  {
   "cell_type": "markdown",
   "id": "13008fb6-1bc7-441b-8260-c81cbffe01f2",
   "metadata": {},
   "source": [
    "# Exercises\n",
    "Using the repo setup directions, setup a new local and remote repository named `spark-exercises`. The local version of your repo should live inside of `~/codeup-data-science`. This repo should be named `spark-exercises`\n",
    "\n",
    "Save this work in your `spark-exercises` repo. Then add, commit, and push your changes.\n",
    "\n",
    "Create a jupyter notebook or python script named `spark101` for this exercise."
   ]
  },
  {
   "cell_type": "code",
   "execution_count": 4,
   "id": "b614439f",
   "metadata": {},
   "outputs": [],
   "source": [
    "import pyspark\n",
    "import numpy as np\n",
    "import pandas as pd"
   ]
  },
  {
   "cell_type": "markdown",
   "id": "a948fec9-fc2b-4c70-acbe-08729626be66",
   "metadata": {},
   "source": [
    "## 1. Create a spark data frame that contains your favorite programming languages.\n",
    "\n"
   ]
  },
  {
   "cell_type": "markdown",
   "id": "e43aa7ca",
   "metadata": {},
   "source": [
    "- <b>The name of the column should be language</b>\n"
   ]
  },
  {
   "cell_type": "code",
   "execution_count": 46,
   "id": "813b9b3f",
   "metadata": {},
   "outputs": [
    {
     "name": "stdout",
     "output_type": "stream",
     "text": [
      "22/10/20 16:17:59 WARN SparkSession: Using an existing Spark session; only runtime SQL configurations will take effect.\n"
     ]
    }
   ],
   "source": [
    "# spark = pyspark.sql.SparkSession.builder.getOrCreate()\n",
    "\n",
    "import multiprocessing\n",
    "# import pyspark\n",
    "\n",
    "nprocs = multiprocessing.cpu_count()\n",
    "\n",
    "spark = (pyspark.sql.SparkSession.builder\n",
    " .master('local')\n",
    " .config('spark.jars.packages', 'mysql:mysql-connector-java:8.0.16')\n",
    " .config('spark.driver.memory', '4G')\n",
    " .config('spark.driver.cores', nprocs)\n",
    " .config('spark.sql.shuffle.partitions', nprocs)\n",
    " .appName('MySparkApplication')\n",
    " .getOrCreate())"
   ]
  },
  {
   "cell_type": "code",
   "execution_count": 6,
   "id": "d72f8137",
   "metadata": {},
   "outputs": [],
   "source": [
    "data = pd.DataFrame({'language': ['python', 'sql', 'matplotlib', 'seaborn', 'sklearn', 'numpy', 'pandas']})"
   ]
  },
  {
   "cell_type": "code",
   "execution_count": 7,
   "id": "3fd1d986",
   "metadata": {},
   "outputs": [],
   "source": [
    "programs = spark.createDataFrame(data)"
   ]
  },
  {
   "cell_type": "markdown",
   "id": "36d2518c",
   "metadata": {},
   "source": [
    "- **View the schema of the dataframe**\n"
   ]
  },
  {
   "cell_type": "code",
   "execution_count": 9,
   "id": "2cf20d2b",
   "metadata": {},
   "outputs": [
    {
     "data": {
      "text/plain": [
       "StructType([StructField('language', StringType(), True)])"
      ]
     },
     "execution_count": 9,
     "metadata": {},
     "output_type": "execute_result"
    }
   ],
   "source": [
    "programs.schema"
   ]
  },
  {
   "cell_type": "markdown",
   "id": "ea85c398",
   "metadata": {},
   "source": [
    "- **Output the shape of the dataframe**\n"
   ]
  },
  {
   "cell_type": "code",
   "execution_count": 10,
   "id": "385f7177",
   "metadata": {},
   "outputs": [
    {
     "name": "stderr",
     "output_type": "stream",
     "text": [
      "                                                                                \r"
     ]
    },
    {
     "data": {
      "text/plain": [
       "(7, 1)"
      ]
     },
     "execution_count": 10,
     "metadata": {},
     "output_type": "execute_result"
    }
   ],
   "source": [
    "programs.count(), len(programs.columns)"
   ]
  },
  {
   "cell_type": "markdown",
   "id": "95b00154",
   "metadata": {},
   "source": [
    "- **Show the first 5 records in the dataframe**"
   ]
  },
  {
   "cell_type": "code",
   "execution_count": 11,
   "id": "792fd031",
   "metadata": {},
   "outputs": [
    {
     "name": "stdout",
     "output_type": "stream",
     "text": [
      "+----------+\n",
      "|  language|\n",
      "+----------+\n",
      "|    python|\n",
      "|       sql|\n",
      "|matplotlib|\n",
      "|   seaborn|\n",
      "|   sklearn|\n",
      "+----------+\n",
      "only showing top 5 rows\n",
      "\n"
     ]
    }
   ],
   "source": [
    "programs.show(5)"
   ]
  },
  {
   "cell_type": "markdown",
   "id": "319e53c8-f883-4ac5-9df9-183c6a4b9550",
   "metadata": {},
   "source": [
    "## 2. Load the mpg dataset as a spark dataframe."
   ]
  },
  {
   "cell_type": "code",
   "execution_count": 12,
   "id": "e91ccf65",
   "metadata": {},
   "outputs": [
    {
     "name": "stdout",
     "output_type": "stream",
     "text": [
      "+------------+-----+-----+----+---+----------+---+---+---+---+-------+\n",
      "|manufacturer|model|displ|year|cyl|     trans|drv|cty|hwy| fl|  class|\n",
      "+------------+-----+-----+----+---+----------+---+---+---+---+-------+\n",
      "|        audi|   a4|  1.8|1999|  4|  auto(l5)|  f| 18| 29|  p|compact|\n",
      "|        audi|   a4|  1.8|1999|  4|manual(m5)|  f| 21| 29|  p|compact|\n",
      "|        audi|   a4|  2.0|2008|  4|manual(m6)|  f| 20| 31|  p|compact|\n",
      "|        audi|   a4|  2.0|2008|  4|  auto(av)|  f| 21| 30|  p|compact|\n",
      "|        audi|   a4|  2.8|1999|  6|  auto(l5)|  f| 16| 26|  p|compact|\n",
      "+------------+-----+-----+----+---+----------+---+---+---+---+-------+\n",
      "only showing top 5 rows\n",
      "\n"
     ]
    }
   ],
   "source": [
    "from pydataset import data\n",
    "\n",
    "mpg = spark.createDataFrame(data(\"mpg\"))\n",
    "mpg.show(5)"
   ]
  },
  {
   "cell_type": "markdown",
   "id": "94130ba9",
   "metadata": {},
   "source": [
    "- Create 1 column of output that contains a message like the one below:\n",
    "\n",
    "\n",
    "> The 1999 audi a4 has a 4 cylinder engine.\n",
    "\n",
    "For each vehicle."
   ]
  },
  {
   "cell_type": "code",
   "execution_count": null,
   "id": "7e70f5fa",
   "metadata": {},
   "outputs": [],
   "source": []
  },
  {
   "cell_type": "code",
   "execution_count": 13,
   "id": "51afb21f",
   "metadata": {},
   "outputs": [],
   "source": [
    "import pyspark.sql.functions as F\n",
    "# from pyspark.sql.functions import * "
   ]
  },
  {
   "cell_type": "code",
   "execution_count": 47,
   "id": "213d4dc8",
   "metadata": {},
   "outputs": [
    {
     "name": "stdout",
     "output_type": "stream",
     "text": [
      "+--------------------------------------------------------------+\n",
      "|Cylinders                                                     |\n",
      "+--------------------------------------------------------------+\n",
      "|The 1999 audi a4 has a 4 cylinder engine.                     |\n",
      "|The 1999 audi a4 has a 4 cylinder engine.                     |\n",
      "|The 2008 audi a4 has a 4 cylinder engine.                     |\n",
      "|The 2008 audi a4 has a 4 cylinder engine.                     |\n",
      "|The 1999 audi a4 has a 6 cylinder engine.                     |\n",
      "|The 1999 audi a4 has a 6 cylinder engine.                     |\n",
      "|The 2008 audi a4 has a 6 cylinder engine.                     |\n",
      "|The 1999 audi a4 quattro has a 4 cylinder engine.             |\n",
      "|The 1999 audi a4 quattro has a 4 cylinder engine.             |\n",
      "|The 2008 audi a4 quattro has a 4 cylinder engine.             |\n",
      "|The 2008 audi a4 quattro has a 4 cylinder engine.             |\n",
      "|The 1999 audi a4 quattro has a 6 cylinder engine.             |\n",
      "|The 1999 audi a4 quattro has a 6 cylinder engine.             |\n",
      "|The 2008 audi a4 quattro has a 6 cylinder engine.             |\n",
      "|The 2008 audi a4 quattro has a 6 cylinder engine.             |\n",
      "|The 1999 audi a6 quattro has a 6 cylinder engine.             |\n",
      "|The 2008 audi a6 quattro has a 6 cylinder engine.             |\n",
      "|The 2008 audi a6 quattro has a 8 cylinder engine.             |\n",
      "|The 2008 chevrolet c1500 suburban 2wd has a 8 cylinder engine.|\n",
      "|The 2008 chevrolet c1500 suburban 2wd has a 8 cylinder engine.|\n",
      "+--------------------------------------------------------------+\n",
      "only showing top 20 rows\n",
      "\n"
     ]
    }
   ],
   "source": [
    "\n",
    "mpg.select(F.concat(F.lit('The '),\n",
    "                     mpg.year, \n",
    "                     F.lit(' '),\n",
    "                     mpg.manufacturer, \n",
    "                     F.lit(' '),\n",
    "                     mpg.model,\n",
    "                     F.lit(' has a '),\n",
    "                     mpg.cyl, \n",
    "                     F.lit(' cylinder engine.')\n",
    "                     ).alias('Cylinders')).show(truncate=False)"
   ]
  },
  {
   "cell_type": "markdown",
   "id": "a46e3a92",
   "metadata": {},
   "source": [
    "- Transform the trans column so that it only contains either manual or auto."
   ]
  },
  {
   "cell_type": "code",
   "execution_count": 22,
   "id": "a7a85831",
   "metadata": {},
   "outputs": [],
   "source": [
    "from pyspark.sql.functions import regexp_extract, regexp_replace"
   ]
  },
  {
   "cell_type": "code",
   "execution_count": 27,
   "id": "a68de81b",
   "metadata": {},
   "outputs": [
    {
     "name": "stdout",
     "output_type": "stream",
     "text": [
      "+------------+\n",
      "|Transmission|\n",
      "+------------+\n",
      "|        auto|\n",
      "|      manual|\n",
      "|      manual|\n",
      "|        auto|\n",
      "|        auto|\n",
      "|      manual|\n",
      "|        auto|\n",
      "|      manual|\n",
      "|        auto|\n",
      "|      manual|\n",
      "|        auto|\n",
      "|        auto|\n",
      "|      manual|\n",
      "|        auto|\n",
      "|      manual|\n",
      "|        auto|\n",
      "|        auto|\n",
      "|        auto|\n",
      "|        auto|\n",
      "|        auto|\n",
      "+------------+\n",
      "only showing top 20 rows\n",
      "\n"
     ]
    }
   ],
   "source": [
    "mpg.select(regexp_extract('trans', r'^(\\w+)', 1).alias('Transmission')).show()"
   ]
  },
  {
   "cell_type": "code",
   "execution_count": 82,
   "id": "bd0e3f33",
   "metadata": {},
   "outputs": [
    {
     "name": "stdout",
     "output_type": "stream",
     "text": [
      "+----------+------+\n",
      "|     trans|  tran|\n",
      "+----------+------+\n",
      "|  auto(l5)|manual|\n",
      "|manual(m5)|manual|\n",
      "|manual(m6)|manual|\n",
      "|  auto(av)|manual|\n",
      "|  auto(l5)|manual|\n",
      "|manual(m5)|manual|\n",
      "|  auto(av)|manual|\n",
      "|manual(m5)|manual|\n",
      "|  auto(l5)|manual|\n",
      "|manual(m6)|manual|\n",
      "|  auto(s6)|manual|\n",
      "|  auto(l5)|manual|\n",
      "|manual(m5)|manual|\n",
      "|  auto(s6)|manual|\n",
      "|manual(m6)|manual|\n",
      "|  auto(l5)|manual|\n",
      "|  auto(s6)|manual|\n",
      "|  auto(s6)|manual|\n",
      "|  auto(l4)|manual|\n",
      "|  auto(l4)|manual|\n",
      "+----------+------+\n",
      "only showing top 20 rows\n",
      "\n"
     ]
    }
   ],
   "source": [
    "mpg.withColumn('tran',\n",
    "                F.when(\n",
    "                    mpg.trans.like('auot%'), 'auto'\n",
    "                ).otherwise('manual')).select('trans', 'tran').show()"
   ]
  },
  {
   "cell_type": "markdown",
   "id": "52522538-375c-4686-879a-71cadcfeddbd",
   "metadata": {},
   "source": [
    "## 3. Load the tips dataset as a spark dataframe.\n",
    "\n"
   ]
  },
  {
   "cell_type": "code",
   "execution_count": 28,
   "id": "5d701120",
   "metadata": {},
   "outputs": [
    {
     "name": "stdout",
     "output_type": "stream",
     "text": [
      "+----------+----+------+------+---+------+----+\n",
      "|total_bill| tip|   sex|smoker|day|  time|size|\n",
      "+----------+----+------+------+---+------+----+\n",
      "|     16.99|1.01|Female|    No|Sun|Dinner|   2|\n",
      "|     10.34|1.66|  Male|    No|Sun|Dinner|   3|\n",
      "|     21.01| 3.5|  Male|    No|Sun|Dinner|   3|\n",
      "|     23.68|3.31|  Male|    No|Sun|Dinner|   2|\n",
      "|     24.59|3.61|Female|    No|Sun|Dinner|   4|\n",
      "|     25.29|4.71|  Male|    No|Sun|Dinner|   4|\n",
      "|      8.77| 2.0|  Male|    No|Sun|Dinner|   2|\n",
      "|     26.88|3.12|  Male|    No|Sun|Dinner|   4|\n",
      "|     15.04|1.96|  Male|    No|Sun|Dinner|   2|\n",
      "|     14.78|3.23|  Male|    No|Sun|Dinner|   2|\n",
      "|     10.27|1.71|  Male|    No|Sun|Dinner|   2|\n",
      "|     35.26| 5.0|Female|    No|Sun|Dinner|   4|\n",
      "|     15.42|1.57|  Male|    No|Sun|Dinner|   2|\n",
      "|     18.43| 3.0|  Male|    No|Sun|Dinner|   4|\n",
      "|     14.83|3.02|Female|    No|Sun|Dinner|   2|\n",
      "|     21.58|3.92|  Male|    No|Sun|Dinner|   2|\n",
      "|     10.33|1.67|Female|    No|Sun|Dinner|   3|\n",
      "|     16.29|3.71|  Male|    No|Sun|Dinner|   3|\n",
      "|     16.97| 3.5|Female|    No|Sun|Dinner|   3|\n",
      "|     20.65|3.35|  Male|    No|Sat|Dinner|   3|\n",
      "+----------+----+------+------+---+------+----+\n",
      "only showing top 20 rows\n",
      "\n"
     ]
    }
   ],
   "source": [
    "tips = spark.createDataFrame(data('tips'))\n",
    "tips.show()"
   ]
  },
  {
   "cell_type": "markdown",
   "id": "7006cc33",
   "metadata": {},
   "source": [
    "- What percentage of observations are smokers?\n"
   ]
  },
  {
   "cell_type": "code",
   "execution_count": 34,
   "id": "d235581a",
   "metadata": {},
   "outputs": [
    {
     "name": "stderr",
     "output_type": "stream",
     "text": [
      "[Stage 14:>                                                         (0 + 8) / 8]\r"
     ]
    },
    {
     "name": "stdout",
     "output_type": "stream",
     "text": [
      "+------+-----+\n",
      "|smoker|count|\n",
      "+------+-----+\n",
      "|    No|  151|\n",
      "|   Yes|   93|\n",
      "+------+-----+\n",
      "\n"
     ]
    },
    {
     "name": "stderr",
     "output_type": "stream",
     "text": [
      "                                                                                \r"
     ]
    }
   ],
   "source": [
    "tips.groupby(tips.smoker).count().show()"
   ]
  },
  {
   "cell_type": "code",
   "execution_count": 49,
   "id": "8b559186",
   "metadata": {},
   "outputs": [
    {
     "name": "stdout",
     "output_type": "stream",
     "text": [
      "+----------+----+------+------+----+------+----+\n",
      "|total_bill| tip|   sex|smoker| day|  time|size|\n",
      "+----------+----+------+------+----+------+----+\n",
      "|     38.01| 3.0|  Male|   Yes| Sat|Dinner|   4|\n",
      "|     11.24|1.76|  Male|   Yes| Sat|Dinner|   2|\n",
      "|     20.29|3.21|  Male|   Yes| Sat|Dinner|   2|\n",
      "|     13.81| 2.0|  Male|   Yes| Sat|Dinner|   2|\n",
      "|     11.02|1.98|  Male|   Yes| Sat|Dinner|   2|\n",
      "|     18.29|3.76|  Male|   Yes| Sat|Dinner|   4|\n",
      "|      3.07| 1.0|Female|   Yes| Sat|Dinner|   1|\n",
      "|     15.01|2.09|  Male|   Yes| Sat|Dinner|   2|\n",
      "|     26.86|3.14|Female|   Yes| Sat|Dinner|   2|\n",
      "|     25.28| 5.0|Female|   Yes| Sat|Dinner|   2|\n",
      "|     17.92|3.08|  Male|   Yes| Sat|Dinner|   2|\n",
      "|     19.44| 3.0|  Male|   Yes|Thur| Lunch|   2|\n",
      "|     32.68| 5.0|  Male|   Yes|Thur| Lunch|   2|\n",
      "|     28.97| 3.0|  Male|   Yes| Fri|Dinner|   2|\n",
      "|      5.75| 1.0|Female|   Yes| Fri|Dinner|   2|\n",
      "|     16.32| 4.3|Female|   Yes| Fri|Dinner|   2|\n",
      "|     40.17|4.73|  Male|   Yes| Fri|Dinner|   4|\n",
      "|     27.28| 4.0|  Male|   Yes| Fri|Dinner|   2|\n",
      "|     12.03| 1.5|  Male|   Yes| Fri|Dinner|   2|\n",
      "|     21.01| 3.0|  Male|   Yes| Fri|Dinner|   2|\n",
      "+----------+----+------+------+----+------+----+\n",
      "only showing top 20 rows\n",
      "\n"
     ]
    },
    {
     "name": "stdout",
     "output_type": "stream",
     "text": [
      "22/10/20 18:11:57 WARN HeartbeatReceiver: Removing executor driver with no recent heartbeats: 3378720 ms exceeds timeout 120000 ms\n",
      "22/10/20 18:11:57 WARN SparkContext: Killing executors is not supported by current scheduler.\n"
     ]
    }
   ],
   "source": [
    "tips.filter(tips.smoker == 'Yes').show()"
   ]
  },
  {
   "cell_type": "code",
   "execution_count": 68,
   "id": "cc7e10da",
   "metadata": {},
   "outputs": [
    {
     "data": {
      "text/plain": [
       "93"
      ]
     },
     "execution_count": 68,
     "metadata": {},
     "output_type": "execute_result"
    }
   ],
   "source": [
    "tips.filter(tips.smoker == 'Yes').count()"
   ]
  },
  {
   "cell_type": "code",
   "execution_count": 70,
   "id": "0e7f5e34",
   "metadata": {},
   "outputs": [
    {
     "data": {
      "text/plain": [
       "244"
      ]
     },
     "execution_count": 70,
     "metadata": {},
     "output_type": "execute_result"
    }
   ],
   "source": [
    "tips.select(tips.smoker).count()"
   ]
  },
  {
   "cell_type": "code",
   "execution_count": 71,
   "id": "cc7e10da",
   "metadata": {},
   "outputs": [
    {
     "data": {
      "text/plain": [
       "0.38114754098360654"
      ]
     },
     "execution_count": 71,
     "metadata": {},
     "output_type": "execute_result"
    }
   ],
   "source": [
    "tips.filter(tips.smoker == 'Yes').count() / tips.select(tips.smoker).count()"
   ]
  },
  {
   "cell_type": "code",
   "execution_count": 89,
   "id": "cc7e10da",
   "metadata": {},
   "outputs": [
    {
     "data": {
      "text/plain": [
       "0.38114754098360654"
      ]
     },
     "execution_count": 89,
     "metadata": {},
     "output_type": "execute_result"
    }
   ],
   "source": [
    "tips.filter(tips.smoker == 'Yes').count() / tips.select(tips.smoker).count()"
   ]
  },
  {
   "cell_type": "code",
   "execution_count": 83,
   "id": "fb00db62",
   "metadata": {},
   "outputs": [
    {
     "name": "stderr",
     "output_type": "stream",
     "text": [
      "[Stage 59:===========================================>              (6 + 2) / 8]\r"
     ]
    },
    {
     "name": "stdout",
     "output_type": "stream",
     "text": [
      "+------+-----+-------+\n",
      "|smoker|count|percent|\n",
      "+------+-----+-------+\n",
      "|    No|  151|   62.0|\n",
      "|   Yes|   93|   38.0|\n",
      "+------+-----+-------+\n",
      "\n"
     ]
    },
    {
     "name": "stderr",
     "output_type": "stream",
     "text": [
      "                                                                                \r"
     ]
    }
   ],
   "source": [
    "tips.groupby('smoker').count().withColumn('percent', F.round(F.col('count') / tips.count() * 100)).show()"
   ]
  },
  {
   "cell_type": "markdown",
   "id": "220ba6e1",
   "metadata": {},
   "source": [
    "- Create a column that contains the tip percentage\n"
   ]
  },
  {
   "cell_type": "code",
   "execution_count": 77,
   "id": "beeea728",
   "metadata": {},
   "outputs": [
    {
     "name": "stdout",
     "output_type": "stream",
     "text": [
      "+-------------------+\n",
      "|     tip_percentage|\n",
      "+-------------------+\n",
      "|0.05944673337257211|\n",
      "|0.16054158607350097|\n",
      "|0.16658733936220846|\n",
      "| 0.1397804054054054|\n",
      "|0.14680764538430255|\n",
      "|0.18623962040332148|\n",
      "|0.22805017103762829|\n",
      "|0.11607142857142858|\n",
      "|0.13031914893617022|\n",
      "| 0.2185385656292287|\n",
      "| 0.1665043816942551|\n",
      "|0.14180374361883155|\n",
      "|0.10181582360570687|\n",
      "|0.16277807921866522|\n",
      "|0.20364126770060686|\n",
      "|0.18164967562557924|\n",
      "| 0.1616650532429816|\n",
      "|0.22774708410067526|\n",
      "|0.20624631703005306|\n",
      "|0.16222760290556903|\n",
      "+-------------------+\n",
      "only showing top 20 rows\n",
      "\n"
     ]
    }
   ],
   "source": [
    "tips.select(F.expr('tip / total_bill AS tip_percentage')).show()"
   ]
  },
  {
   "cell_type": "code",
   "execution_count": null,
   "id": "0ca9d850",
   "metadata": {},
   "outputs": [],
   "source": []
  },
  {
   "cell_type": "markdown",
   "id": "c1429904",
   "metadata": {},
   "source": [
    "- Calculate the average tip percentage for each combination of sex and smoker."
   ]
  },
  {
   "cell_type": "code",
   "execution_count": 81,
   "id": "ee6bad1a",
   "metadata": {},
   "outputs": [
    {
     "ename": "AttributeError",
     "evalue": "'DataFrame' object has no attribute '_get_object_id'",
     "output_type": "error",
     "traceback": [
      "\u001b[0;31m---------------------------------------------------------------------------\u001b[0m",
      "\u001b[0;31mAttributeError\u001b[0m                            Traceback (most recent call last)",
      "\u001b[1;32m/Users/davidhowell/codeup-data-scinence/spark-exercises/spark101.ipynb Cell 33\u001b[0m in \u001b[0;36m<cell line: 1>\u001b[0;34m()\u001b[0m\n\u001b[0;32m----> <a href='vscode-notebook-cell:/Users/davidhowell/codeup-data-scinence/spark-exercises/spark101.ipynb#X51sZmlsZQ%3D%3D?line=0'>1</a>\u001b[0m tips\u001b[39m.\u001b[39;49mrollup(\u001b[39m'\u001b[39;49m\u001b[39msex\u001b[39;49m\u001b[39m'\u001b[39;49m, \u001b[39m'\u001b[39;49m\u001b[39msmoker\u001b[39;49m\u001b[39m'\u001b[39;49m)\u001b[39m.\u001b[39;49mmean(tips\u001b[39m.\u001b[39;49mselect(F\u001b[39m.\u001b[39;49mexpr(\u001b[39m'\u001b[39;49m\u001b[39mtip / total_bill AS tip_percentage\u001b[39;49m\u001b[39m'\u001b[39;49m)))\u001b[39m.\u001b[39mshow()\n",
      "File \u001b[0;32m/opt/homebrew/anaconda3/lib/python3.9/site-packages/pyspark/sql/group.py:50\u001b[0m, in \u001b[0;36mdf_varargs_api.<locals>._api\u001b[0;34m(self, *cols)\u001b[0m\n\u001b[1;32m     48\u001b[0m \u001b[39mdef\u001b[39;00m \u001b[39m_api\u001b[39m(\u001b[39mself\u001b[39m: \u001b[39m\"\u001b[39m\u001b[39mGroupedData\u001b[39m\u001b[39m\"\u001b[39m, \u001b[39m*\u001b[39mcols: \u001b[39mstr\u001b[39m) \u001b[39m-\u001b[39m\u001b[39m>\u001b[39m DataFrame:\n\u001b[1;32m     49\u001b[0m     name \u001b[39m=\u001b[39m f\u001b[39m.\u001b[39m\u001b[39m__name__\u001b[39m\n\u001b[0;32m---> 50\u001b[0m     jdf \u001b[39m=\u001b[39m \u001b[39mgetattr\u001b[39m(\u001b[39mself\u001b[39m\u001b[39m.\u001b[39m_jgd, name)(_to_seq(\u001b[39mself\u001b[39;49m\u001b[39m.\u001b[39;49msession\u001b[39m.\u001b[39;49m_sc, cols))\n\u001b[1;32m     51\u001b[0m     \u001b[39mreturn\u001b[39;00m DataFrame(jdf, \u001b[39mself\u001b[39m\u001b[39m.\u001b[39msession)\n",
      "File \u001b[0;32m/opt/homebrew/anaconda3/lib/python3.9/site-packages/pyspark/sql/column.py:88\u001b[0m, in \u001b[0;36m_to_seq\u001b[0;34m(sc, cols, converter)\u001b[0m\n\u001b[1;32m     86\u001b[0m     cols \u001b[39m=\u001b[39m [converter(c) \u001b[39mfor\u001b[39;00m c \u001b[39min\u001b[39;00m cols]\n\u001b[1;32m     87\u001b[0m \u001b[39massert\u001b[39;00m sc\u001b[39m.\u001b[39m_jvm \u001b[39mis\u001b[39;00m \u001b[39mnot\u001b[39;00m \u001b[39mNone\u001b[39;00m\n\u001b[0;32m---> 88\u001b[0m \u001b[39mreturn\u001b[39;00m sc\u001b[39m.\u001b[39;49m_jvm\u001b[39m.\u001b[39;49mPythonUtils\u001b[39m.\u001b[39;49mtoSeq(cols)\n",
      "File \u001b[0;32m/opt/homebrew/anaconda3/lib/python3.9/site-packages/py4j/java_gateway.py:1313\u001b[0m, in \u001b[0;36mJavaMember.__call__\u001b[0;34m(self, *args)\u001b[0m\n\u001b[1;32m   1312\u001b[0m \u001b[39mdef\u001b[39;00m \u001b[39m__call__\u001b[39m(\u001b[39mself\u001b[39m, \u001b[39m*\u001b[39margs):\n\u001b[0;32m-> 1313\u001b[0m     args_command, temp_args \u001b[39m=\u001b[39m \u001b[39mself\u001b[39;49m\u001b[39m.\u001b[39;49m_build_args(\u001b[39m*\u001b[39;49margs)\n\u001b[1;32m   1315\u001b[0m     command \u001b[39m=\u001b[39m proto\u001b[39m.\u001b[39mCALL_COMMAND_NAME \u001b[39m+\u001b[39m\\\n\u001b[1;32m   1316\u001b[0m         \u001b[39mself\u001b[39m\u001b[39m.\u001b[39mcommand_header \u001b[39m+\u001b[39m\\\n\u001b[1;32m   1317\u001b[0m         args_command \u001b[39m+\u001b[39m\\\n\u001b[1;32m   1318\u001b[0m         proto\u001b[39m.\u001b[39mEND_COMMAND_PART\n\u001b[1;32m   1320\u001b[0m     answer \u001b[39m=\u001b[39m \u001b[39mself\u001b[39m\u001b[39m.\u001b[39mgateway_client\u001b[39m.\u001b[39msend_command(command)\n",
      "File \u001b[0;32m/opt/homebrew/anaconda3/lib/python3.9/site-packages/py4j/java_gateway.py:1277\u001b[0m, in \u001b[0;36mJavaMember._build_args\u001b[0;34m(self, *args)\u001b[0m\n\u001b[1;32m   1275\u001b[0m \u001b[39mdef\u001b[39;00m \u001b[39m_build_args\u001b[39m(\u001b[39mself\u001b[39m, \u001b[39m*\u001b[39margs):\n\u001b[1;32m   1276\u001b[0m     \u001b[39mif\u001b[39;00m \u001b[39mself\u001b[39m\u001b[39m.\u001b[39mconverters \u001b[39mis\u001b[39;00m \u001b[39mnot\u001b[39;00m \u001b[39mNone\u001b[39;00m \u001b[39mand\u001b[39;00m \u001b[39mlen\u001b[39m(\u001b[39mself\u001b[39m\u001b[39m.\u001b[39mconverters) \u001b[39m>\u001b[39m \u001b[39m0\u001b[39m:\n\u001b[0;32m-> 1277\u001b[0m         (new_args, temp_args) \u001b[39m=\u001b[39m \u001b[39mself\u001b[39;49m\u001b[39m.\u001b[39;49m_get_args(args)\n\u001b[1;32m   1278\u001b[0m     \u001b[39melse\u001b[39;00m:\n\u001b[1;32m   1279\u001b[0m         new_args \u001b[39m=\u001b[39m args\n",
      "File \u001b[0;32m/opt/homebrew/anaconda3/lib/python3.9/site-packages/py4j/java_gateway.py:1264\u001b[0m, in \u001b[0;36mJavaMember._get_args\u001b[0;34m(self, args)\u001b[0m\n\u001b[1;32m   1262\u001b[0m \u001b[39mfor\u001b[39;00m converter \u001b[39min\u001b[39;00m \u001b[39mself\u001b[39m\u001b[39m.\u001b[39mgateway_client\u001b[39m.\u001b[39mconverters:\n\u001b[1;32m   1263\u001b[0m     \u001b[39mif\u001b[39;00m converter\u001b[39m.\u001b[39mcan_convert(arg):\n\u001b[0;32m-> 1264\u001b[0m         temp_arg \u001b[39m=\u001b[39m converter\u001b[39m.\u001b[39;49mconvert(arg, \u001b[39mself\u001b[39;49m\u001b[39m.\u001b[39;49mgateway_client)\n\u001b[1;32m   1265\u001b[0m         temp_args\u001b[39m.\u001b[39mappend(temp_arg)\n\u001b[1;32m   1266\u001b[0m         new_args\u001b[39m.\u001b[39mappend(temp_arg)\n",
      "File \u001b[0;32m/opt/homebrew/anaconda3/lib/python3.9/site-packages/py4j/java_collections.py:511\u001b[0m, in \u001b[0;36mListConverter.convert\u001b[0;34m(self, object, gateway_client)\u001b[0m\n\u001b[1;32m    509\u001b[0m java_list \u001b[39m=\u001b[39m ArrayList()\n\u001b[1;32m    510\u001b[0m \u001b[39mfor\u001b[39;00m element \u001b[39min\u001b[39;00m \u001b[39mobject\u001b[39m:\n\u001b[0;32m--> 511\u001b[0m     java_list\u001b[39m.\u001b[39;49madd(element)\n\u001b[1;32m    512\u001b[0m \u001b[39mreturn\u001b[39;00m java_list\n",
      "File \u001b[0;32m/opt/homebrew/anaconda3/lib/python3.9/site-packages/py4j/java_gateway.py:1313\u001b[0m, in \u001b[0;36mJavaMember.__call__\u001b[0;34m(self, *args)\u001b[0m\n\u001b[1;32m   1312\u001b[0m \u001b[39mdef\u001b[39;00m \u001b[39m__call__\u001b[39m(\u001b[39mself\u001b[39m, \u001b[39m*\u001b[39margs):\n\u001b[0;32m-> 1313\u001b[0m     args_command, temp_args \u001b[39m=\u001b[39m \u001b[39mself\u001b[39;49m\u001b[39m.\u001b[39;49m_build_args(\u001b[39m*\u001b[39;49margs)\n\u001b[1;32m   1315\u001b[0m     command \u001b[39m=\u001b[39m proto\u001b[39m.\u001b[39mCALL_COMMAND_NAME \u001b[39m+\u001b[39m\\\n\u001b[1;32m   1316\u001b[0m         \u001b[39mself\u001b[39m\u001b[39m.\u001b[39mcommand_header \u001b[39m+\u001b[39m\\\n\u001b[1;32m   1317\u001b[0m         args_command \u001b[39m+\u001b[39m\\\n\u001b[1;32m   1318\u001b[0m         proto\u001b[39m.\u001b[39mEND_COMMAND_PART\n\u001b[1;32m   1320\u001b[0m     answer \u001b[39m=\u001b[39m \u001b[39mself\u001b[39m\u001b[39m.\u001b[39mgateway_client\u001b[39m.\u001b[39msend_command(command)\n",
      "File \u001b[0;32m/opt/homebrew/anaconda3/lib/python3.9/site-packages/py4j/java_gateway.py:1283\u001b[0m, in \u001b[0;36mJavaMember._build_args\u001b[0;34m(self, *args)\u001b[0m\n\u001b[1;32m   1279\u001b[0m     new_args \u001b[39m=\u001b[39m args\n\u001b[1;32m   1280\u001b[0m     temp_args \u001b[39m=\u001b[39m []\n\u001b[1;32m   1282\u001b[0m args_command \u001b[39m=\u001b[39m \u001b[39m\"\u001b[39m\u001b[39m\"\u001b[39m\u001b[39m.\u001b[39mjoin(\n\u001b[0;32m-> 1283\u001b[0m     [get_command_part(arg, \u001b[39mself\u001b[39m\u001b[39m.\u001b[39mpool) \u001b[39mfor\u001b[39;00m arg \u001b[39min\u001b[39;00m new_args])\n\u001b[1;32m   1285\u001b[0m \u001b[39mreturn\u001b[39;00m args_command, temp_args\n",
      "File \u001b[0;32m/opt/homebrew/anaconda3/lib/python3.9/site-packages/py4j/java_gateway.py:1283\u001b[0m, in \u001b[0;36m<listcomp>\u001b[0;34m(.0)\u001b[0m\n\u001b[1;32m   1279\u001b[0m     new_args \u001b[39m=\u001b[39m args\n\u001b[1;32m   1280\u001b[0m     temp_args \u001b[39m=\u001b[39m []\n\u001b[1;32m   1282\u001b[0m args_command \u001b[39m=\u001b[39m \u001b[39m\"\u001b[39m\u001b[39m\"\u001b[39m\u001b[39m.\u001b[39mjoin(\n\u001b[0;32m-> 1283\u001b[0m     [get_command_part(arg, \u001b[39mself\u001b[39;49m\u001b[39m.\u001b[39;49mpool) \u001b[39mfor\u001b[39;00m arg \u001b[39min\u001b[39;00m new_args])\n\u001b[1;32m   1285\u001b[0m \u001b[39mreturn\u001b[39;00m args_command, temp_args\n",
      "File \u001b[0;32m/opt/homebrew/anaconda3/lib/python3.9/site-packages/py4j/protocol.py:298\u001b[0m, in \u001b[0;36mget_command_part\u001b[0;34m(parameter, python_proxy_pool)\u001b[0m\n\u001b[1;32m    296\u001b[0m         command_part \u001b[39m+\u001b[39m\u001b[39m=\u001b[39m \u001b[39m\"\u001b[39m\u001b[39m;\u001b[39m\u001b[39m\"\u001b[39m \u001b[39m+\u001b[39m interface\n\u001b[1;32m    297\u001b[0m \u001b[39melse\u001b[39;00m:\n\u001b[0;32m--> 298\u001b[0m     command_part \u001b[39m=\u001b[39m REFERENCE_TYPE \u001b[39m+\u001b[39m parameter\u001b[39m.\u001b[39;49m_get_object_id()\n\u001b[1;32m    300\u001b[0m command_part \u001b[39m+\u001b[39m\u001b[39m=\u001b[39m \u001b[39m\"\u001b[39m\u001b[39m\\n\u001b[39;00m\u001b[39m\"\u001b[39m\n\u001b[1;32m    302\u001b[0m \u001b[39mreturn\u001b[39;00m command_part\n",
      "File \u001b[0;32m/opt/homebrew/anaconda3/lib/python3.9/site-packages/pyspark/sql/dataframe.py:1988\u001b[0m, in \u001b[0;36mDataFrame.__getattr__\u001b[0;34m(self, name)\u001b[0m\n\u001b[1;32m   1978\u001b[0m \u001b[39m\"\"\"Returns the :class:`Column` denoted by ``name``.\u001b[39;00m\n\u001b[1;32m   1979\u001b[0m \n\u001b[1;32m   1980\u001b[0m \u001b[39m.. versionadded:: 1.3.0\u001b[39;00m\n\u001b[0;32m   (...)\u001b[0m\n\u001b[1;32m   1985\u001b[0m \u001b[39m[Row(age=2), Row(age=5)]\u001b[39;00m\n\u001b[1;32m   1986\u001b[0m \u001b[39m\"\"\"\u001b[39;00m\n\u001b[1;32m   1987\u001b[0m \u001b[39mif\u001b[39;00m name \u001b[39mnot\u001b[39;00m \u001b[39min\u001b[39;00m \u001b[39mself\u001b[39m\u001b[39m.\u001b[39mcolumns:\n\u001b[0;32m-> 1988\u001b[0m     \u001b[39mraise\u001b[39;00m \u001b[39mAttributeError\u001b[39;00m(\n\u001b[1;32m   1989\u001b[0m         \u001b[39m\"\u001b[39m\u001b[39m'\u001b[39m\u001b[39m%s\u001b[39;00m\u001b[39m'\u001b[39m\u001b[39m object has no attribute \u001b[39m\u001b[39m'\u001b[39m\u001b[39m%s\u001b[39;00m\u001b[39m'\u001b[39m\u001b[39m\"\u001b[39m \u001b[39m%\u001b[39m (\u001b[39mself\u001b[39m\u001b[39m.\u001b[39m\u001b[39m__class__\u001b[39m\u001b[39m.\u001b[39m\u001b[39m__name__\u001b[39m, name)\n\u001b[1;32m   1990\u001b[0m     )\n\u001b[1;32m   1991\u001b[0m jc \u001b[39m=\u001b[39m \u001b[39mself\u001b[39m\u001b[39m.\u001b[39m_jdf\u001b[39m.\u001b[39mapply(name)\n\u001b[1;32m   1992\u001b[0m \u001b[39mreturn\u001b[39;00m Column(jc)\n",
      "\u001b[0;31mAttributeError\u001b[0m: 'DataFrame' object has no attribute '_get_object_id'"
     ]
    }
   ],
   "source": [
    "tips.rollup('sex', 'smoker').mean(tips.select(F.expr('tip / total_bill AS tip_percentage'))).show()"
   ]
  },
  {
   "cell_type": "code",
   "execution_count": null,
   "id": "ee6bad1a",
   "metadata": {},
   "outputs": [
    {
     "ename": "TypeError",
     "evalue": "Column is not iterable",
     "output_type": "error",
     "traceback": [
      "\u001b[0;31m---------------------------------------------------------------------------\u001b[0m\n",
      "\u001b[0;31mTypeError\u001b[0m                                 Traceback (most recent call last)\n",
      "\u001b[1;32m/Users/davidhowell/codeup-data-scinence/spark-exercises/spark101.ipynb Cell 33\u001b[0m in \u001b[0;36m<cell line: 1>\u001b[0;34m()\u001b[0m\n",
      "\u001b[0;32m----> <a href='vscode-notebook-cell:/Users/davidhowell/codeup-data-scinence/spark-exercises/spark101.ipynb#X51sZmlsZQ%3D%3D?line=0'>1</a>\u001b[0m tips\u001b[39m.\u001b[39;49mrollup(\u001b[39m'\u001b[39;49m\u001b[39msex\u001b[39;49m\u001b[39m'\u001b[39;49m, \u001b[39m'\u001b[39;49m\u001b[39msmoker\u001b[39;49m\u001b[39m'\u001b[39;49m)\u001b[39m.\u001b[39;49mmean(F\u001b[39m.\u001b[39;49mexpr(\u001b[39m'\u001b[39;49m\u001b[39mtip / total_bill AS tip_percentage\u001b[39;49m\u001b[39m'\u001b[39;49m))\u001b[39m.\u001b[39mshow()\n",
      "\n",
      "File \u001b[0;32m/opt/homebrew/anaconda3/lib/python3.9/site-packages/pyspark/sql/group.py:50\u001b[0m, in \u001b[0;36mdf_varargs_api.<locals>._api\u001b[0;34m(self, *cols)\u001b[0m\n",
      "\u001b[1;32m     48\u001b[0m \u001b[39mdef\u001b[39;00m \u001b[39m_api\u001b[39m(\u001b[39mself\u001b[39m: \u001b[39m\"\u001b[39m\u001b[39mGroupedData\u001b[39m\u001b[39m\"\u001b[39m, \u001b[39m*\u001b[39mcols: \u001b[39mstr\u001b[39m) \u001b[39m-\u001b[39m\u001b[39m>\u001b[39m DataFrame:\n",
      "\u001b[1;32m     49\u001b[0m     name \u001b[39m=\u001b[39m f\u001b[39m.\u001b[39m\u001b[39m__name__\u001b[39m\n",
      "\u001b[0;32m---> 50\u001b[0m     jdf \u001b[39m=\u001b[39m \u001b[39mgetattr\u001b[39m(\u001b[39mself\u001b[39m\u001b[39m.\u001b[39m_jgd, name)(_to_seq(\u001b[39mself\u001b[39;49m\u001b[39m.\u001b[39;49msession\u001b[39m.\u001b[39;49m_sc, cols))\n",
      "\u001b[1;32m     51\u001b[0m     \u001b[39mreturn\u001b[39;00m DataFrame(jdf, \u001b[39mself\u001b[39m\u001b[39m.\u001b[39msession)\n",
      "\n",
      "File \u001b[0;32m/opt/homebrew/anaconda3/lib/python3.9/site-packages/pyspark/sql/column.py:88\u001b[0m, in \u001b[0;36m_to_seq\u001b[0;34m(sc, cols, converter)\u001b[0m\n",
      "\u001b[1;32m     86\u001b[0m     cols \u001b[39m=\u001b[39m [converter(c) \u001b[39mfor\u001b[39;00m c \u001b[39min\u001b[39;00m cols]\n",
      "\u001b[1;32m     87\u001b[0m \u001b[39massert\u001b[39;00m sc\u001b[39m.\u001b[39m_jvm \u001b[39mis\u001b[39;00m \u001b[39mnot\u001b[39;00m \u001b[39mNone\u001b[39;00m\n",
      "\u001b[0;32m---> 88\u001b[0m \u001b[39mreturn\u001b[39;00m sc\u001b[39m.\u001b[39;49m_jvm\u001b[39m.\u001b[39;49mPythonUtils\u001b[39m.\u001b[39;49mtoSeq(cols)\n",
      "\n",
      "File \u001b[0;32m/opt/homebrew/anaconda3/lib/python3.9/site-packages/py4j/java_gateway.py:1313\u001b[0m, in \u001b[0;36mJavaMember.__call__\u001b[0;34m(self, *args)\u001b[0m\n",
      "\u001b[1;32m   1312\u001b[0m \u001b[39mdef\u001b[39;00m \u001b[39m__call__\u001b[39m(\u001b[39mself\u001b[39m, \u001b[39m*\u001b[39margs):\n",
      "\u001b[0;32m-> 1313\u001b[0m     args_command, temp_args \u001b[39m=\u001b[39m \u001b[39mself\u001b[39;49m\u001b[39m.\u001b[39;49m_build_args(\u001b[39m*\u001b[39;49margs)\n",
      "\u001b[1;32m   1315\u001b[0m     command \u001b[39m=\u001b[39m proto\u001b[39m.\u001b[39mCALL_COMMAND_NAME \u001b[39m+\u001b[39m\\\n",
      "\u001b[1;32m   1316\u001b[0m         \u001b[39mself\u001b[39m\u001b[39m.\u001b[39mcommand_header \u001b[39m+\u001b[39m\\\n",
      "\u001b[1;32m   1317\u001b[0m         args_command \u001b[39m+\u001b[39m\\\n",
      "\u001b[1;32m   1318\u001b[0m         proto\u001b[39m.\u001b[39mEND_COMMAND_PART\n",
      "\u001b[1;32m   1320\u001b[0m     answer \u001b[39m=\u001b[39m \u001b[39mself\u001b[39m\u001b[39m.\u001b[39mgateway_client\u001b[39m.\u001b[39msend_command(command)\n",
      "\n",
      "File \u001b[0;32m/opt/homebrew/anaconda3/lib/python3.9/site-packages/py4j/java_gateway.py:1277\u001b[0m, in \u001b[0;36mJavaMember._build_args\u001b[0;34m(self, *args)\u001b[0m\n",
      "\u001b[1;32m   1275\u001b[0m \u001b[39mdef\u001b[39;00m \u001b[39m_build_args\u001b[39m(\u001b[39mself\u001b[39m, \u001b[39m*\u001b[39margs):\n",
      "\u001b[1;32m   1276\u001b[0m     \u001b[39mif\u001b[39;00m \u001b[39mself\u001b[39m\u001b[39m.\u001b[39mconverters \u001b[39mis\u001b[39;00m \u001b[39mnot\u001b[39;00m \u001b[39mNone\u001b[39;00m \u001b[39mand\u001b[39;00m \u001b[39mlen\u001b[39m(\u001b[39mself\u001b[39m\u001b[39m.\u001b[39mconverters) \u001b[39m>\u001b[39m \u001b[39m0\u001b[39m:\n",
      "\u001b[0;32m-> 1277\u001b[0m         (new_args, temp_args) \u001b[39m=\u001b[39m \u001b[39mself\u001b[39;49m\u001b[39m.\u001b[39;49m_get_args(args)\n",
      "\u001b[1;32m   1278\u001b[0m     \u001b[39melse\u001b[39;00m:\n",
      "\u001b[1;32m   1279\u001b[0m         new_args \u001b[39m=\u001b[39m args\n",
      "\n",
      "File \u001b[0;32m/opt/homebrew/anaconda3/lib/python3.9/site-packages/py4j/java_gateway.py:1264\u001b[0m, in \u001b[0;36mJavaMember._get_args\u001b[0;34m(self, args)\u001b[0m\n",
      "\u001b[1;32m   1262\u001b[0m \u001b[39mfor\u001b[39;00m converter \u001b[39min\u001b[39;00m \u001b[39mself\u001b[39m\u001b[39m.\u001b[39mgateway_client\u001b[39m.\u001b[39mconverters:\n",
      "\u001b[1;32m   1263\u001b[0m     \u001b[39mif\u001b[39;00m converter\u001b[39m.\u001b[39mcan_convert(arg):\n",
      "\u001b[0;32m-> 1264\u001b[0m         temp_arg \u001b[39m=\u001b[39m converter\u001b[39m.\u001b[39;49mconvert(arg, \u001b[39mself\u001b[39;49m\u001b[39m.\u001b[39;49mgateway_client)\n",
      "\u001b[1;32m   1265\u001b[0m         temp_args\u001b[39m.\u001b[39mappend(temp_arg)\n",
      "\u001b[1;32m   1266\u001b[0m         new_args\u001b[39m.\u001b[39mappend(temp_arg)\n",
      "\n",
      "File \u001b[0;32m/opt/homebrew/anaconda3/lib/python3.9/site-packages/py4j/java_collections.py:511\u001b[0m, in \u001b[0;36mListConverter.convert\u001b[0;34m(self, object, gateway_client)\u001b[0m\n",
      "\u001b[1;32m    509\u001b[0m java_list \u001b[39m=\u001b[39m ArrayList()\n",
      "\u001b[1;32m    510\u001b[0m \u001b[39mfor\u001b[39;00m element \u001b[39min\u001b[39;00m \u001b[39mobject\u001b[39m:\n",
      "\u001b[0;32m--> 511\u001b[0m     java_list\u001b[39m.\u001b[39;49madd(element)\n",
      "\u001b[1;32m    512\u001b[0m \u001b[39mreturn\u001b[39;00m java_list\n",
      "\n",
      "File \u001b[0;32m/opt/homebrew/anaconda3/lib/python3.9/site-packages/py4j/java_gateway.py:1313\u001b[0m, in \u001b[0;36mJavaMember.__call__\u001b[0;34m(self, *args)\u001b[0m\n",
      "\u001b[1;32m   1312\u001b[0m \u001b[39mdef\u001b[39;00m \u001b[39m__call__\u001b[39m(\u001b[39mself\u001b[39m, \u001b[39m*\u001b[39margs):\n",
      "\u001b[0;32m-> 1313\u001b[0m     args_command, temp_args \u001b[39m=\u001b[39m \u001b[39mself\u001b[39;49m\u001b[39m.\u001b[39;49m_build_args(\u001b[39m*\u001b[39;49margs)\n",
      "\u001b[1;32m   1315\u001b[0m     command \u001b[39m=\u001b[39m proto\u001b[39m.\u001b[39mCALL_COMMAND_NAME \u001b[39m+\u001b[39m\\\n",
      "\u001b[1;32m   1316\u001b[0m         \u001b[39mself\u001b[39m\u001b[39m.\u001b[39mcommand_header \u001b[39m+\u001b[39m\\\n",
      "\u001b[1;32m   1317\u001b[0m         args_command \u001b[39m+\u001b[39m\\\n",
      "\u001b[1;32m   1318\u001b[0m         proto\u001b[39m.\u001b[39mEND_COMMAND_PART\n",
      "\u001b[1;32m   1320\u001b[0m     answer \u001b[39m=\u001b[39m \u001b[39mself\u001b[39m\u001b[39m.\u001b[39mgateway_client\u001b[39m.\u001b[39msend_command(command)\n",
      "\n",
      "File \u001b[0;32m/opt/homebrew/anaconda3/lib/python3.9/site-packages/py4j/java_gateway.py:1277\u001b[0m, in \u001b[0;36mJavaMember._build_args\u001b[0;34m(self, *args)\u001b[0m\n",
      "\u001b[1;32m   1275\u001b[0m \u001b[39mdef\u001b[39;00m \u001b[39m_build_args\u001b[39m(\u001b[39mself\u001b[39m, \u001b[39m*\u001b[39margs):\n",
      "\u001b[1;32m   1276\u001b[0m     \u001b[39mif\u001b[39;00m \u001b[39mself\u001b[39m\u001b[39m.\u001b[39mconverters \u001b[39mis\u001b[39;00m \u001b[39mnot\u001b[39;00m \u001b[39mNone\u001b[39;00m \u001b[39mand\u001b[39;00m \u001b[39mlen\u001b[39m(\u001b[39mself\u001b[39m\u001b[39m.\u001b[39mconverters) \u001b[39m>\u001b[39m \u001b[39m0\u001b[39m:\n",
      "\u001b[0;32m-> 1277\u001b[0m         (new_args, temp_args) \u001b[39m=\u001b[39m \u001b[39mself\u001b[39;49m\u001b[39m.\u001b[39;49m_get_args(args)\n",
      "\u001b[1;32m   1278\u001b[0m     \u001b[39melse\u001b[39;00m:\n",
      "\u001b[1;32m   1279\u001b[0m         new_args \u001b[39m=\u001b[39m args\n",
      "\n",
      "File \u001b[0;32m/opt/homebrew/anaconda3/lib/python3.9/site-packages/py4j/java_gateway.py:1264\u001b[0m, in \u001b[0;36mJavaMember._get_args\u001b[0;34m(self, args)\u001b[0m\n",
      "\u001b[1;32m   1262\u001b[0m \u001b[39mfor\u001b[39;00m converter \u001b[39min\u001b[39;00m \u001b[39mself\u001b[39m\u001b[39m.\u001b[39mgateway_client\u001b[39m.\u001b[39mconverters:\n",
      "\u001b[1;32m   1263\u001b[0m     \u001b[39mif\u001b[39;00m converter\u001b[39m.\u001b[39mcan_convert(arg):\n",
      "\u001b[0;32m-> 1264\u001b[0m         temp_arg \u001b[39m=\u001b[39m converter\u001b[39m.\u001b[39;49mconvert(arg, \u001b[39mself\u001b[39;49m\u001b[39m.\u001b[39;49mgateway_client)\n",
      "\u001b[1;32m   1265\u001b[0m         temp_args\u001b[39m.\u001b[39mappend(temp_arg)\n",
      "\u001b[1;32m   1266\u001b[0m         new_args\u001b[39m.\u001b[39mappend(temp_arg)\n",
      "\n",
      "File \u001b[0;32m/opt/homebrew/anaconda3/lib/python3.9/site-packages/py4j/java_collections.py:510\u001b[0m, in \u001b[0;36mListConverter.convert\u001b[0;34m(self, object, gateway_client)\u001b[0m\n",
      "\u001b[1;32m    508\u001b[0m ArrayList \u001b[39m=\u001b[39m JavaClass(\u001b[39m\"\u001b[39m\u001b[39mjava.util.ArrayList\u001b[39m\u001b[39m\"\u001b[39m, gateway_client)\n",
      "\u001b[1;32m    509\u001b[0m java_list \u001b[39m=\u001b[39m ArrayList()\n",
      "\u001b[0;32m--> 510\u001b[0m \u001b[39mfor\u001b[39;00m element \u001b[39min\u001b[39;00m \u001b[39mobject\u001b[39m:\n",
      "\u001b[1;32m    511\u001b[0m     java_list\u001b[39m.\u001b[39madd(element)\n",
      "\u001b[1;32m    512\u001b[0m \u001b[39mreturn\u001b[39;00m java_list\n",
      "\n",
      "File \u001b[0;32m/opt/homebrew/anaconda3/lib/python3.9/site-packages/pyspark/sql/column.py:560\u001b[0m, in \u001b[0;36mColumn.__iter__\u001b[0;34m(self)\u001b[0m\n",
      "\u001b[1;32m    559\u001b[0m \u001b[39mdef\u001b[39;00m \u001b[39m__iter__\u001b[39m(\u001b[39mself\u001b[39m) \u001b[39m-\u001b[39m\u001b[39m>\u001b[39m \u001b[39mNone\u001b[39;00m:\n",
      "\u001b[0;32m--> 560\u001b[0m     \u001b[39mraise\u001b[39;00m \u001b[39mTypeError\u001b[39;00m(\u001b[39m\"\u001b[39m\u001b[39mColumn is not iterable\u001b[39m\u001b[39m\"\u001b[39m)\n",
      "\n",
      "\u001b[0;31mTypeError\u001b[0m: Column is not iterable"
     ]
    }
   ],
   "source": [
    "tips.rollup('sex', 'smoker').mean(F.expr('tip / total_bill AS tip_percentage')).show()"
   ]
  },
  {
   "cell_type": "code",
   "execution_count": 90,
   "id": "a9065429",
   "metadata": {},
   "outputs": [
    {
     "name": "stderr",
     "output_type": "stream",
     "text": [
      "[Stage 98:>                                                         (0 + 8) / 8]\r"
     ]
    },
    {
     "name": "stdout",
     "output_type": "stream",
     "text": [
      "+------+------+--------+\n",
      "|   sex|smoker|avg_tips|\n",
      "+------+------+--------+\n",
      "|  Male|    No|    0.16|\n",
      "|Female|    No|    0.16|\n",
      "|  Male|   Yes|    0.15|\n",
      "|Female|   Yes|    0.18|\n",
      "+------+------+--------+\n",
      "\n"
     ]
    },
    {
     "name": "stderr",
     "output_type": "stream",
     "text": [
      "                                                                                \r"
     ]
    }
   ],
   "source": [
    "tips.withColumn('tip_percentage', tips.tip / tips.total_bill).groupby('sex', 'smoker').agg(F.round(F.mean('tip_percentage'),2).alias('avg_tips')).show()"
   ]
  },
  {
   "cell_type": "code",
   "execution_count": null,
   "id": "4dd799b6",
   "metadata": {},
   "outputs": [],
   "source": [
    "tips.groupby('sex').pivot('smoker').agg(F.round(F.mean()))"
   ]
  },
  {
   "cell_type": "markdown",
   "id": "e4386920",
   "metadata": {},
   "source": [
    "- Create a column that contains the tip percentage\n"
   ]
  },
  {
   "cell_type": "code",
   "execution_count": null,
   "id": "fb4f9e6f",
   "metadata": {},
   "outputs": [],
   "source": []
  },
  {
   "cell_type": "markdown",
   "id": "20eb9085",
   "metadata": {},
   "source": [
    "- Calculate the average tip percentage for each combination of sex and smoker."
   ]
  },
  {
   "cell_type": "code",
   "execution_count": null,
   "id": "4b33458e",
   "metadata": {},
   "outputs": [],
   "source": []
  },
  {
   "cell_type": "markdown",
   "id": "5131e3fc-9363-453d-ab6a-94fb3b72872e",
   "metadata": {},
   "source": [
    "## 4. Use the seattle weather dataset referenced in the lesson to answer the questions below.\n",
    "\n"
   ]
  },
  {
   "cell_type": "code",
   "execution_count": 91,
   "id": "7e847e08",
   "metadata": {},
   "outputs": [
    {
     "name": "stdout",
     "output_type": "stream",
     "text": [
      "+----------+-------------+--------+--------+----+-------+\n",
      "|      date|precipitation|temp_max|temp_min|wind|weather|\n",
      "+----------+-------------+--------+--------+----+-------+\n",
      "|2012-01-01|          0.0|    12.8|     5.0| 4.7|drizzle|\n",
      "|2012-01-02|         10.9|    10.6|     2.8| 4.5|   rain|\n",
      "|2012-01-03|          0.8|    11.7|     7.2| 2.3|   rain|\n",
      "|2012-01-04|         20.3|    12.2|     5.6| 4.7|   rain|\n",
      "|2012-01-05|          1.3|     8.9|     2.8| 6.1|   rain|\n",
      "|2012-01-06|          2.5|     4.4|     2.2| 2.2|   rain|\n",
      "+----------+-------------+--------+--------+----+-------+\n",
      "only showing top 6 rows\n",
      "\n"
     ]
    }
   ],
   "source": [
    "from vega_datasets import data\n",
    "\n",
    "weather = data.seattle_weather().assign(date=lambda df: df.date.astype(str))\n",
    "weather = spark.createDataFrame(weather)\n",
    "weather.show(6)"
   ]
  },
  {
   "cell_type": "markdown",
   "id": "2109a9fa",
   "metadata": {},
   "source": [
    "- Convert the temperatures to fahrenheit.\n"
   ]
  },
  {
   "cell_type": "code",
   "execution_count": null,
   "id": "79fd7719",
   "metadata": {},
   "outputs": [],
   "source": []
  },
  {
   "cell_type": "markdown",
   "id": "28e397f8",
   "metadata": {},
   "source": [
    "- Which month has the most rain, on average?"
   ]
  },
  {
   "cell_type": "code",
   "execution_count": 96,
   "id": "4a07cd42",
   "metadata": {},
   "outputs": [
    {
     "name": "stderr",
     "output_type": "stream",
     "text": [
      "                                                                                \r"
     ]
    },
    {
     "data": {
      "text/plain": [
       "Row(month=11, avg_rainfall=5.354166666666667)"
      ]
     },
     "execution_count": 96,
     "metadata": {},
     "output_type": "execute_result"
    }
   ],
   "source": [
    "weather.withColumn(\n",
    "    'month', \n",
    "    F.month(weather.date)\n",
    ").groupby(\n",
    "    F.col('month')\n",
    ").agg(\n",
    "    F.mean(weather.precipitation).alias('avg_rainfall')).sort(F.col('avg_rainfall').desc()).first()"
   ]
  },
  {
   "cell_type": "markdown",
   "id": "68d15bde",
   "metadata": {},
   "source": [
    "- Which year was the windiest?\n"
   ]
  },
  {
   "cell_type": "code",
   "execution_count": 94,
   "id": "55fade31",
   "metadata": {},
   "outputs": [
    {
     "name": "stderr",
     "output_type": "stream",
     "text": [
      "                                                                                \r"
     ]
    },
    {
     "data": {
      "text/plain": [
       "Row(year=2012, avg_wind=3.400819672131148)"
      ]
     },
     "execution_count": 94,
     "metadata": {},
     "output_type": "execute_result"
    }
   ],
   "source": [
    "weather.withColumn(\n",
    "    'year',\n",
    "    F.year(weather.date)\n",
    ").groupby(\n",
    "    F.col('year')\n",
    ").agg(\n",
    "    F.mean(weather.wind).alias('avg_wind')\n",
    ").sort(\n",
    "    F.col('avg_wind').desc()\n",
    ").first()"
   ]
  },
  {
   "cell_type": "markdown",
   "id": "1eb6a680",
   "metadata": {},
   "source": [
    "- What is the most frequent type of weather in January?\n"
   ]
  },
  {
   "cell_type": "code",
   "execution_count": null,
   "id": "6251a95c",
   "metadata": {},
   "outputs": [],
   "source": []
  },
  {
   "cell_type": "markdown",
   "id": "24199c89",
   "metadata": {},
   "source": [
    "- What is the average high and low temperature on sunny days in July in 2013 and 2014?\n"
   ]
  },
  {
   "cell_type": "code",
   "execution_count": null,
   "id": "3b13755d",
   "metadata": {},
   "outputs": [],
   "source": [
    "(\n",
    "weather.filter(F.month('date') == 7)\n",
    ".filter(F.year('date') > 2012)\n",
    ".filter(F.year('date') < 2015)\n",
    ".filter(F.col('weather') == 'sunny')\n",
    ")"
   ]
  },
  {
   "cell_type": "markdown",
   "id": "ee9658a8",
   "metadata": {},
   "source": [
    "- What percentage of days were rainy in q3 of 2015?\n"
   ]
  },
  {
   "cell_type": "code",
   "execution_count": null,
   "id": "82ad2fcd",
   "metadata": {},
   "outputs": [],
   "source": [
    "(\n",
    "    weather.filter(F.year('date') == 2015)\n",
    "    .filter(F.quarter('date') == 3)\n",
    "    .select(\n",
    "        F.when('weather') == 'rain', 1\n",
    "    ).otherwise(0).alias('did_rain')\n",
    ")"
   ]
  },
  {
   "cell_type": "markdown",
   "id": "3017723a",
   "metadata": {},
   "source": [
    "- For each year, find what percentage of days it rained (had non-zero precipitation)."
   ]
  },
  {
   "cell_type": "code",
   "execution_count": 97,
   "id": "df312d39",
   "metadata": {},
   "outputs": [
    {
     "name": "stderr",
     "output_type": "stream",
     "text": [
      "[Stage 110:=======>                                                 (1 + 7) / 8]\r"
     ]
    },
    {
     "name": "stdout",
     "output_type": "stream",
     "text": [
      "+----+-------------------+\n",
      "|year|      avg(did_rain)|\n",
      "+----+-------------------+\n",
      "|2012|0.48360655737704916|\n",
      "|2013|0.41643835616438357|\n",
      "|2014|  0.410958904109589|\n",
      "|2015|0.39452054794520547|\n",
      "+----+-------------------+\n",
      "\n"
     ]
    },
    {
     "name": "stderr",
     "output_type": "stream",
     "text": [
      "                                                                                \r"
     ]
    }
   ],
   "source": [
    "(\n",
    "    weather.withColumn(\n",
    "        'year', F.year('date')\n",
    "    )\n",
    "    .select(\n",
    "        F.when(\n",
    "            F.col('precipitation') > 0, 1\n",
    "        ).otherwise(0).alias('did_rain'), 'year'\n",
    "    )\n",
    "    .groupby('year')\n",
    "    .agg(F.mean('did_rain'))\n",
    "    .show()\n",
    ")"
   ]
  }
 ],
 "metadata": {
  "kernelspec": {
   "display_name": "Python 3.9.12 ('base')",
   "language": "python",
   "name": "python3"
  },
  "language_info": {
   "codemirror_mode": {
    "name": "ipython",
    "version": 3
   },
   "file_extension": ".py",
   "mimetype": "text/x-python",
   "name": "python",
   "nbconvert_exporter": "python",
   "pygments_lexer": "ipython3",
   "version": "3.9.12"
  },
  "vscode": {
   "interpreter": {
    "hash": "38cca0c38332a56087b24af0bc80247f4fced29cb4f7f437d91dc159adec9c4e"
   }
  }
 },
 "nbformat": 4,
 "nbformat_minor": 5
}
